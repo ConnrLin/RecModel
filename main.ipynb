{
 "cells": [
  {
   "cell_type": "code",
   "execution_count": 1,
   "metadata": {},
   "outputs": [],
   "source": [
    "import numpy as np\n",
    "import pandas as pd\n",
    "import torch\n",
    "from torch.utils.data import Dataset, random_split\n",
    "from torch.utils.data import DataLoader\n",
    "import random\n",
    "from Transformer import BERTModel\n",
    "import torch.nn as nn\n",
    "import torch.optim as optim\n",
    "from Transformer import Trainer"
   ]
  },
  {
   "cell_type": "code",
   "execution_count": 2,
   "metadata": {},
   "outputs": [],
   "source": [
    "data_csv_path = \"../bert4rec/data/ml-20m/ratings.csv\"\n",
    "movies_path = \"../bert4rec/data/ml-20m/movies.csv\""
   ]
  },
  {
   "cell_type": "code",
   "execution_count": 3,
   "metadata": {},
   "outputs": [],
   "source": [
    "data = pd.read_csv(data_csv_path)"
   ]
  },
  {
   "cell_type": "code",
   "execution_count": 4,
   "metadata": {},
   "outputs": [],
   "source": [
    "# data.head(10)"
   ]
  },
  {
   "cell_type": "code",
   "execution_count": 5,
   "metadata": {},
   "outputs": [],
   "source": [
    "data.sort_values(by=\"timestamp\",inplace=True)"
   ]
  },
  {
   "cell_type": "code",
   "execution_count": 6,
   "metadata": {},
   "outputs": [],
   "source": [
    "# build map and inversed map from movieId to tokenId\n",
    "movies = sorted(data[\"movieId\"].unique().tolist())"
   ]
  },
  {
   "cell_type": "code",
   "execution_count": 7,
   "metadata": {},
   "outputs": [],
   "source": [
    "# 0 : PAD\n",
    "# 1 : MASK\n",
    "movie_to_id = {k:i+2 for i,k in enumerate(movies)}\n",
    "id_to_movie = {movie_to_id[k]:k for k in movie_to_id}"
   ]
  },
  {
   "cell_type": "code",
   "execution_count": 8,
   "metadata": {},
   "outputs": [],
   "source": [
    "group_by_data = data.groupby(by='userId').agg(list)[\"movieId\"]"
   ]
  },
  {
   "cell_type": "code",
   "execution_count": 9,
   "metadata": {},
   "outputs": [],
   "source": [
    "groups_data = group_by_data.to_list()"
   ]
  },
  {
   "cell_type": "code",
   "execution_count": 10,
   "metadata": {},
   "outputs": [],
   "source": [
    "train_set,test_set,validate_set = random_split(groups_data,[0.8,0.1,0.1])"
   ]
  },
  {
   "cell_type": "code",
   "execution_count": 11,
   "metadata": {},
   "outputs": [],
   "source": [
    "class BERTDataset(Dataset):\n",
    "    \n",
    "    def __init__(self, data, mapping, padding_id, mask_id, max_len = 128, train = False  ):\n",
    "        \"\"\" Dataset class object for ml-20m dataset\n",
    "\n",
    "        Args:\n",
    "            data (list): data\n",
    "            mapping (dict): the dictionary that map moive id to token id\n",
    "            padding_id(int): the token id of [PAD]\n",
    "            mask_id (int): the token id of [MASK]\n",
    "            max_len (int, optional): the maximum length of a sequence. Defaults to 128.\n",
    "            train (bool, optional): if this dataset is a training set. Defaults to False.\n",
    "        \"\"\"\n",
    "        self.data = data\n",
    "        self.mapping = mapping\n",
    "        self.padding_id = padding_id\n",
    "        self.masked_id = mask_id\n",
    "        self.max_len = max_len\n",
    "        self.train = train\n",
    "        self.num_items = len(mapping)\n",
    "    \n",
    "    def __getitem__(self, index):\n",
    "        seq = self.data[index]\n",
    "        # depricate parts over max_len\n",
    "        if len(seq) > self.max_len:\n",
    "            seq = seq[:self.max_len]\n",
    "        # tokenize the sequence\n",
    "        seq = [self.mapping[x] for x in seq]\n",
    "        mask = [0 for _ in range(len(seq))]\n",
    "        # if it is training set, mask it\n",
    "        if self.train:\n",
    "            seq, mask = self.random_mask(seq)\n",
    "        # padding \n",
    "        padding_len = self.max_len - len(seq)\n",
    "        seq = seq + [self.padding_id] * padding_len\n",
    "        mask = mask + [self.padding_id] * padding_len\n",
    "        return torch.LongTensor(seq), torch.LongTensor(mask)\n",
    "\n",
    "    def __len__(self):\n",
    "        return len(self.data)\n",
    "\n",
    "    def random_mask(self, sequence):\n",
    "        \"\"\"randomly mask sequence use following strategy:\n",
    "           85% chance not to mask\n",
    "           15% chance to mask\n",
    "           when masking, 80% chance to use [MASK] to replace the token,\n",
    "           10% chance to replace it with an random token and 10% chance to make no change\n",
    "\n",
    "        Args:\n",
    "            sequence(iteratble) sequence to be masked\n",
    "\n",
    "        Return:\n",
    "            sequence(list) sequence after masking\n",
    "            mask(list) mask matrix\n",
    "        \"\"\"\n",
    "        tokens = []\n",
    "        mask = []\n",
    "        for s in sequence:\n",
    "            prob = random.random()\n",
    "            # not mask\n",
    "            if prob < 0.85:\n",
    "                tokens.append(s)\n",
    "                mask.append(0)\n",
    "            # mask\n",
    "            else:\n",
    "                prob = random.random()\n",
    "                if prob < 0.8:\n",
    "                    tokens.append(self.masked_id)\n",
    "                elif prob < 0.9:\n",
    "                    tokens.append(random.randint(2,self.num_items+1))\n",
    "                else:\n",
    "                    tokens.append(s)\n",
    "                mask.append(s) \n",
    "        return tokens, mask"
   ]
  },
  {
   "cell_type": "code",
   "execution_count": 12,
   "metadata": {},
   "outputs": [],
   "source": [
    "device = 'mps'\n",
    "lr = 1e-3\n",
    "epochs = 100\n",
    "decay_steps=25\n",
    "gamma = 0.01\n",
    "weight_decay = 0.01\n",
    "model = BERTModel(128,2,4,len(movies),256,0.1)\n",
    "optimizer = optim.Adam(model.parameters(),lr = lr, weight_decay= weight_decay)\n",
    "loss_fn = nn.CrossEntropyLoss(ignore_index=0)\n",
    "lr_scheduler = optim.lr_scheduler.StepLR(optimizer, step_size=decay_steps, gamma=gamma)\n",
    "train_dataset = BERTDataset(train_set, movie_to_id, 0, 1, 128, True)\n",
    "val_dataset = BERTDataset(train_set, movie_to_id, 0, 1, 128, False)\n",
    "train_loader = DataLoader(train_dataset,batch_size=64,shuffle=True, drop_last=True)\n",
    "val_loader = DataLoader(val_dataset,batch_size=64,shuffle=True, drop_last=True)"
   ]
  },
  {
   "cell_type": "code",
   "execution_count": 13,
   "metadata": {},
   "outputs": [],
   "source": [
    "bert_trainer = Trainer(model,train_loader,val_loader,'./checkpoint/',device,optimizer,loss_fn,lr_scheduler,epochs)"
   ]
  },
  {
   "cell_type": "code",
   "execution_count": 14,
   "metadata": {},
   "outputs": [
    {
     "name": "stderr",
     "output_type": "stream",
     "text": [
      "  0%|          | 0/1731 [00:00<?, ?it/s]"
     ]
    }
   ],
   "source": [
    "bert_trainer.train()"
   ]
  }
 ],
 "metadata": {
  "kernelspec": {
   "display_name": "datamining",
   "language": "python",
   "name": "python3"
  },
  "language_info": {
   "codemirror_mode": {
    "name": "ipython",
    "version": 3
   },
   "file_extension": ".py",
   "mimetype": "text/x-python",
   "name": "python",
   "nbconvert_exporter": "python",
   "pygments_lexer": "ipython3",
   "version": "3.8.16"
  },
  "orig_nbformat": 4
 },
 "nbformat": 4,
 "nbformat_minor": 2
}
