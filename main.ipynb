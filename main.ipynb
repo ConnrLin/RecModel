{
 "cells": [
  {
   "cell_type": "code",
   "execution_count": 50,
   "metadata": {},
   "outputs": [],
   "source": [
    "import numpy as np\n",
    "import pandas as pd\n",
    "import torch\n",
    "from torch.utils.data import Dataset, random_split\n",
    "import random"
   ]
  },
  {
   "cell_type": "code",
   "execution_count": 2,
   "metadata": {},
   "outputs": [],
   "source": [
    "data_csv_path = \"data/ml-20m/ratings.csv\"\n",
    "movies_path = \"data/ml-20m/movies.csv\""
   ]
  },
  {
   "cell_type": "code",
   "execution_count": 3,
   "metadata": {},
   "outputs": [],
   "source": [
    "data = pd.read_csv(data_csv_path)"
   ]
  },
  {
   "cell_type": "code",
   "execution_count": 4,
   "metadata": {},
   "outputs": [
    {
     "data": {
      "text/html": [
       "<div>\n",
       "<style scoped>\n",
       "    .dataframe tbody tr th:only-of-type {\n",
       "        vertical-align: middle;\n",
       "    }\n",
       "\n",
       "    .dataframe tbody tr th {\n",
       "        vertical-align: top;\n",
       "    }\n",
       "\n",
       "    .dataframe thead th {\n",
       "        text-align: right;\n",
       "    }\n",
       "</style>\n",
       "<table border=\"1\" class=\"dataframe\">\n",
       "  <thead>\n",
       "    <tr style=\"text-align: right;\">\n",
       "      <th></th>\n",
       "      <th>userId</th>\n",
       "      <th>movieId</th>\n",
       "      <th>rating</th>\n",
       "      <th>timestamp</th>\n",
       "    </tr>\n",
       "  </thead>\n",
       "  <tbody>\n",
       "    <tr>\n",
       "      <th>0</th>\n",
       "      <td>1</td>\n",
       "      <td>2</td>\n",
       "      <td>3.5</td>\n",
       "      <td>1112486027</td>\n",
       "    </tr>\n",
       "    <tr>\n",
       "      <th>1</th>\n",
       "      <td>1</td>\n",
       "      <td>29</td>\n",
       "      <td>3.5</td>\n",
       "      <td>1112484676</td>\n",
       "    </tr>\n",
       "    <tr>\n",
       "      <th>2</th>\n",
       "      <td>1</td>\n",
       "      <td>32</td>\n",
       "      <td>3.5</td>\n",
       "      <td>1112484819</td>\n",
       "    </tr>\n",
       "    <tr>\n",
       "      <th>3</th>\n",
       "      <td>1</td>\n",
       "      <td>47</td>\n",
       "      <td>3.5</td>\n",
       "      <td>1112484727</td>\n",
       "    </tr>\n",
       "    <tr>\n",
       "      <th>4</th>\n",
       "      <td>1</td>\n",
       "      <td>50</td>\n",
       "      <td>3.5</td>\n",
       "      <td>1112484580</td>\n",
       "    </tr>\n",
       "    <tr>\n",
       "      <th>5</th>\n",
       "      <td>1</td>\n",
       "      <td>112</td>\n",
       "      <td>3.5</td>\n",
       "      <td>1094785740</td>\n",
       "    </tr>\n",
       "    <tr>\n",
       "      <th>6</th>\n",
       "      <td>1</td>\n",
       "      <td>151</td>\n",
       "      <td>4.0</td>\n",
       "      <td>1094785734</td>\n",
       "    </tr>\n",
       "    <tr>\n",
       "      <th>7</th>\n",
       "      <td>1</td>\n",
       "      <td>223</td>\n",
       "      <td>4.0</td>\n",
       "      <td>1112485573</td>\n",
       "    </tr>\n",
       "    <tr>\n",
       "      <th>8</th>\n",
       "      <td>1</td>\n",
       "      <td>253</td>\n",
       "      <td>4.0</td>\n",
       "      <td>1112484940</td>\n",
       "    </tr>\n",
       "    <tr>\n",
       "      <th>9</th>\n",
       "      <td>1</td>\n",
       "      <td>260</td>\n",
       "      <td>4.0</td>\n",
       "      <td>1112484826</td>\n",
       "    </tr>\n",
       "  </tbody>\n",
       "</table>\n",
       "</div>"
      ],
      "text/plain": [
       "   userId  movieId  rating   timestamp\n",
       "0       1        2     3.5  1112486027\n",
       "1       1       29     3.5  1112484676\n",
       "2       1       32     3.5  1112484819\n",
       "3       1       47     3.5  1112484727\n",
       "4       1       50     3.5  1112484580\n",
       "5       1      112     3.5  1094785740\n",
       "6       1      151     4.0  1094785734\n",
       "7       1      223     4.0  1112485573\n",
       "8       1      253     4.0  1112484940\n",
       "9       1      260     4.0  1112484826"
      ]
     },
     "execution_count": 4,
     "metadata": {},
     "output_type": "execute_result"
    }
   ],
   "source": [
    "data.head(10)"
   ]
  },
  {
   "cell_type": "code",
   "execution_count": 5,
   "metadata": {},
   "outputs": [],
   "source": [
    "data.sort_values(by=\"timestamp\",inplace=True)"
   ]
  },
  {
   "cell_type": "code",
   "execution_count": 6,
   "metadata": {},
   "outputs": [],
   "source": [
    "# build map and inversed map from movieId to tokenId\n",
    "moives = sorted(data[\"movieId\"].unique().tolist())"
   ]
  },
  {
   "cell_type": "code",
   "execution_count": 8,
   "metadata": {},
   "outputs": [],
   "source": [
    "# 0 : PAD\n",
    "# 1 : MASK\n",
    "moive_to_id = {k:i+2 for i,k in enumerate(moives)}\n",
    "id_to_moive = {moive_to_id[k]:k for k in moive_to_id}"
   ]
  },
  {
   "cell_type": "code",
   "execution_count": 37,
   "metadata": {},
   "outputs": [],
   "source": [
    "group_by_data = data.groupby(by='userId').agg(list)[\"movieId\"]"
   ]
  },
  {
   "cell_type": "code",
   "execution_count": 42,
   "metadata": {},
   "outputs": [],
   "source": [
    "groups_data = group_by_data.to_list()"
   ]
  },
  {
   "cell_type": "code",
   "execution_count": 46,
   "metadata": {},
   "outputs": [],
   "source": [
    "train_set,test_set,validate_set = random_split(groups_data,[0.8,0.1,0.1])"
   ]
  },
  {
   "cell_type": "code",
   "execution_count": 53,
   "metadata": {},
   "outputs": [],
   "source": [
    "class BERTDataset(Dataset):\n",
    "    \n",
    "    def __init__(self, data, mapping, padding_id, mask_id, max_len = 128, train = False  ):\n",
    "        \"\"\" Dataset class object for ml-20m dataset\n",
    "\n",
    "        Args:\n",
    "            data (list): data\n",
    "            mapping (dict): the dictionary that map moive id to token id\n",
    "            padding_id(int): the token id of [PAD]\n",
    "            mask_id (int): the token id of [MASK]\n",
    "            max_len (int, optional): the maximum length of a sequence. Defaults to 128.\n",
    "            train (bool, optional): if this dataset is a training set. Defaults to False.\n",
    "        \"\"\"\n",
    "        self.data = data\n",
    "        self.mapping = mapping\n",
    "        self.max_len = max_len\n",
    "        self.train = train\n",
    "        self.masked_id = mask_id\n",
    "        self.padding_id = padding_id\n",
    "        self.num_items = len(mapping)\n",
    "    \n",
    "    def __getitem__(self, index):\n",
    "        seq = self.data[index]\n",
    "        # depricate parts over max_len\n",
    "        if len(seq)>self.max_len:\n",
    "            seq = seq[:self.max_len]\n",
    "        # tokenize the sequence\n",
    "        seq = [self.mapping[x] for x in seq]\n",
    "        mask = [0 for _ in range(len(seq))]\n",
    "        # if it is training set, mask it\n",
    "        if self.train:\n",
    "            seq,mask = self.random_mask(seq)\n",
    "        # padding \n",
    "        padding_len = self.max_len - len(seq)\n",
    "        seq = seq + [self.padding_id]*padding_len\n",
    "        mask = mask + [0]*padding_len\n",
    "        return seq,mask\n",
    "\n",
    "    def __len__(self):\n",
    "        return len(self.data)\n",
    "\n",
    "    def random_mask(self, sequence):\n",
    "        \"\"\"randomly mask sequence use following strategy:\n",
    "           85% chance not to mask\n",
    "           15% chance to mask\n",
    "           when masking, 80% chance to use [MASK] to replace the token,\n",
    "           10% chance to replace it with an random token and 10% chance to make no change\n",
    "\n",
    "        Args:\n",
    "            sequence(iteratble) sequence to be masked\n",
    "\n",
    "        Return:\n",
    "            sequence(list) sequence after masking\n",
    "            mask(list) mask matrix\n",
    "        \"\"\"\n",
    "        tokens = []\n",
    "        mask = []\n",
    "        for s in sequence:\n",
    "            prob = random.random()\n",
    "            # not mask\n",
    "            if prob<0.85:\n",
    "                tokens.append(s)\n",
    "                mask.append(0)\n",
    "            # mask\n",
    "            else:\n",
    "                prob = random.random()\n",
    "                if prob <0.8:\n",
    "                    tokens.append(self.masked_id)\n",
    "                elif prob <0.9:\n",
    "                    tokens.append(random.randint(2,self.num_items+2))\n",
    "                else:\n",
    "                    tokens.append(s)\n",
    "                mask.append(1)\n",
    "        return tokens,mask"
   ]
  },
  {
   "cell_type": "code",
   "execution_count": 54,
   "metadata": {},
   "outputs": [],
   "source": [
    "my_dataset = BERTDataset(train_set,moive_to_id,0,1,128,True)"
   ]
  },
  {
   "cell_type": "code",
   "execution_count": 51,
   "metadata": {},
   "outputs": [
    {
     "data": {
      "text/plain": [
       "tensor([0.6094, 0.5008, 0.5124])"
      ]
     },
     "execution_count": 51,
     "metadata": {},
     "output_type": "execute_result"
    }
   ],
   "source": []
  }
 ],
 "metadata": {
  "kernelspec": {
   "display_name": "datamining",
   "language": "python",
   "name": "python3"
  },
  "language_info": {
   "codemirror_mode": {
    "name": "ipython",
    "version": 3
   },
   "file_extension": ".py",
   "mimetype": "text/x-python",
   "name": "python",
   "nbconvert_exporter": "python",
   "pygments_lexer": "ipython3",
   "version": "3.8.16"
  },
  "orig_nbformat": 4
 },
 "nbformat": 4,
 "nbformat_minor": 2
}
