{
 "cells": [
  {
   "cell_type": "code",
<<<<<<< HEAD
   "execution_count": null,
=======
   "execution_count": 1,
>>>>>>> 81fab89859da7ca44e6db738b8f08bcc2c4ade93
   "metadata": {},
   "outputs": [],
   "source": [
    "import numpy as np\n",
    "import pandas as pd\n",
    "import torch\n",
    "from torch.utils.data import Dataset, random_split\n",
    "from torch.utils.data import DataLoader\n",
    "import random\n",
<<<<<<< HEAD
    "from model import BERTModel,Trainer\n",
    "import torch.nn as nn\n",
    "import torch.optim as optim\n",
    "from datasets import BertDataset,ML20MDataset"
=======
    "from Transformer import BERTModel\n",
    "import torch.nn as nn\n",
    "import torch.optim as optim"
>>>>>>> 81fab89859da7ca44e6db738b8f08bcc2c4ade93
   ]
  },
  {
   "cell_type": "code",
<<<<<<< HEAD
   "execution_count": null,
   "metadata": {},
   "outputs": [],
   "source": [
    "mldataset = ML20MDataset(\"data/ml-20m/\",4,5,5)"
=======
   "execution_count": 2,
   "metadata": {},
   "outputs": [],
   "source": [
    "data_csv_path = \"data/ml-20m/ratings.csv\"\n",
    "movies_path = \"data/ml-20m/movies.csv\""
>>>>>>> 81fab89859da7ca44e6db738b8f08bcc2c4ade93
   ]
  },
  {
   "cell_type": "code",
<<<<<<< HEAD
   "execution_count": null,
   "metadata": {},
   "outputs": [],
   "source": [
    "dataset = mldataset.load_dataset()"
=======
   "execution_count": 3,
   "metadata": {},
   "outputs": [],
   "source": [
    "data = pd.read_csv(data_csv_path)"
>>>>>>> 81fab89859da7ca44e6db738b8f08bcc2c4ade93
   ]
  },
  {
   "cell_type": "code",
<<<<<<< HEAD
   "execution_count": null,
   "metadata": {},
   "outputs": [],
   "source": [
    "my_dataset = BertDataset(mldataset,'data/ml-20m/',128)"
=======
   "execution_count": 4,
   "metadata": {},
   "outputs": [
    {
     "data": {
      "text/html": [
       "<div>\n",
       "<style scoped>\n",
       "    .dataframe tbody tr th:only-of-type {\n",
       "        vertical-align: middle;\n",
       "    }\n",
       "\n",
       "    .dataframe tbody tr th {\n",
       "        vertical-align: top;\n",
       "    }\n",
       "\n",
       "    .dataframe thead th {\n",
       "        text-align: right;\n",
       "    }\n",
       "</style>\n",
       "<table border=\"1\" class=\"dataframe\">\n",
       "  <thead>\n",
       "    <tr style=\"text-align: right;\">\n",
       "      <th></th>\n",
       "      <th>userId</th>\n",
       "      <th>movieId</th>\n",
       "      <th>rating</th>\n",
       "      <th>timestamp</th>\n",
       "    </tr>\n",
       "  </thead>\n",
       "  <tbody>\n",
       "    <tr>\n",
       "      <th>0</th>\n",
       "      <td>1</td>\n",
       "      <td>2</td>\n",
       "      <td>3.5</td>\n",
       "      <td>1112486027</td>\n",
       "    </tr>\n",
       "    <tr>\n",
       "      <th>1</th>\n",
       "      <td>1</td>\n",
       "      <td>29</td>\n",
       "      <td>3.5</td>\n",
       "      <td>1112484676</td>\n",
       "    </tr>\n",
       "    <tr>\n",
       "      <th>2</th>\n",
       "      <td>1</td>\n",
       "      <td>32</td>\n",
       "      <td>3.5</td>\n",
       "      <td>1112484819</td>\n",
       "    </tr>\n",
       "    <tr>\n",
       "      <th>3</th>\n",
       "      <td>1</td>\n",
       "      <td>47</td>\n",
       "      <td>3.5</td>\n",
       "      <td>1112484727</td>\n",
       "    </tr>\n",
       "    <tr>\n",
       "      <th>4</th>\n",
       "      <td>1</td>\n",
       "      <td>50</td>\n",
       "      <td>3.5</td>\n",
       "      <td>1112484580</td>\n",
       "    </tr>\n",
       "    <tr>\n",
       "      <th>5</th>\n",
       "      <td>1</td>\n",
       "      <td>112</td>\n",
       "      <td>3.5</td>\n",
       "      <td>1094785740</td>\n",
       "    </tr>\n",
       "    <tr>\n",
       "      <th>6</th>\n",
       "      <td>1</td>\n",
       "      <td>151</td>\n",
       "      <td>4.0</td>\n",
       "      <td>1094785734</td>\n",
       "    </tr>\n",
       "    <tr>\n",
       "      <th>7</th>\n",
       "      <td>1</td>\n",
       "      <td>223</td>\n",
       "      <td>4.0</td>\n",
       "      <td>1112485573</td>\n",
       "    </tr>\n",
       "    <tr>\n",
       "      <th>8</th>\n",
       "      <td>1</td>\n",
       "      <td>253</td>\n",
       "      <td>4.0</td>\n",
       "      <td>1112484940</td>\n",
       "    </tr>\n",
       "    <tr>\n",
       "      <th>9</th>\n",
       "      <td>1</td>\n",
       "      <td>260</td>\n",
       "      <td>4.0</td>\n",
       "      <td>1112484826</td>\n",
       "    </tr>\n",
       "  </tbody>\n",
       "</table>\n",
       "</div>"
      ],
      "text/plain": [
       "   userId  movieId  rating   timestamp\n",
       "0       1        2     3.5  1112486027\n",
       "1       1       29     3.5  1112484676\n",
       "2       1       32     3.5  1112484819\n",
       "3       1       47     3.5  1112484727\n",
       "4       1       50     3.5  1112484580\n",
       "5       1      112     3.5  1094785740\n",
       "6       1      151     4.0  1094785734\n",
       "7       1      223     4.0  1112485573\n",
       "8       1      253     4.0  1112484940\n",
       "9       1      260     4.0  1112484826"
      ]
     },
     "execution_count": 4,
     "metadata": {},
     "output_type": "execute_result"
    }
   ],
   "source": [
    "data.head(10)"
   ]
  },
  {
   "cell_type": "code",
   "execution_count": 5,
   "metadata": {},
   "outputs": [],
   "source": [
    "data.sort_values(by=\"timestamp\",inplace=True)"
   ]
  },
  {
   "cell_type": "code",
   "execution_count": 6,
   "metadata": {},
   "outputs": [],
   "source": [
    "# build map and inversed map from movieId to tokenId\n",
    "movies = sorted(data[\"movieId\"].unique().tolist())"
   ]
  },
  {
   "cell_type": "code",
   "execution_count": 7,
   "metadata": {},
   "outputs": [],
   "source": [
    "# 0 : PAD\n",
    "# 1 : MASK\n",
    "movie_to_id = {k:i+2 for i,k in enumerate(movies)}\n",
    "id_to_movie = {movie_to_id[k]:k for k in movie_to_id}"
   ]
  },
  {
   "cell_type": "code",
   "execution_count": 8,
   "metadata": {},
   "outputs": [],
   "source": [
    "group_by_data = data.groupby(by='userId').agg(list)[\"movieId\"]"
   ]
  },
  {
   "cell_type": "code",
   "execution_count": 9,
   "metadata": {},
   "outputs": [],
   "source": [
    "groups_data = group_by_data.to_list()"
   ]
  },
  {
   "cell_type": "code",
   "execution_count": 10,
   "metadata": {},
   "outputs": [],
   "source": [
    "train_set,test_set,validate_set = random_split(groups_data,[0.8,0.1,0.1])"
   ]
  },
  {
   "cell_type": "code",
   "execution_count": 11,
   "metadata": {},
   "outputs": [],
   "source": [
    "class BERTDataset(Dataset):\n",
    "    \n",
    "    def __init__(self, data, mapping, padding_id, mask_id, max_len = 128, train = False  ):\n",
    "        \"\"\" Dataset class object for ml-20m dataset\n",
    "\n",
    "        Args:\n",
    "            data (list): data\n",
    "            mapping (dict): the dictionary that map moive id to token id\n",
    "            padding_id(int): the token id of [PAD]\n",
    "            mask_id (int): the token id of [MASK]\n",
    "            max_len (int, optional): the maximum length of a sequence. Defaults to 128.\n",
    "            train (bool, optional): if this dataset is a training set. Defaults to False.\n",
    "        \"\"\"\n",
    "        self.data = data\n",
    "        self.mapping = mapping\n",
    "        self.padding_id = padding_id\n",
    "        self.masked_id = mask_id\n",
    "        self.max_len = max_len\n",
    "        self.train = train\n",
    "        self.num_items = len(mapping)\n",
    "    \n",
    "    def __getitem__(self, index):\n",
    "        seq = self.data[index]\n",
    "        # depricate parts over max_len\n",
    "        if len(seq) > self.max_len:\n",
    "            seq = seq[:self.max_len]\n",
    "        # tokenize the sequence\n",
    "        seq = [self.mapping[x] for x in seq]\n",
    "        mask = [0 for _ in range(len(seq))]\n",
    "        # if it is training set, mask it\n",
    "        if self.train:\n",
    "            seq, mask = self.random_mask(seq)\n",
    "        # padding \n",
    "        padding_len = self.max_len - len(seq)\n",
    "        seq = seq + [self.padding_id] * padding_len\n",
    "        mask = mask + [self.padding_id] * padding_len\n",
    "        return seq, mask\n",
    "\n",
    "    def __len__(self):\n",
    "        return len(self.data)\n",
    "\n",
    "    def random_mask(self, sequence):\n",
    "        \"\"\"randomly mask sequence use following strategy:\n",
    "           85% chance not to mask\n",
    "           15% chance to mask\n",
    "           when masking, 80% chance to use [MASK] to replace the token,\n",
    "           10% chance to replace it with an random token and 10% chance to make no change\n",
    "\n",
    "        Args:\n",
    "            sequence(iteratble) sequence to be masked\n",
    "\n",
    "        Return:\n",
    "            sequence(list) sequence after masking\n",
    "            mask(list) mask matrix\n",
    "        \"\"\"\n",
    "        tokens = []\n",
    "        mask = []\n",
    "        for s in sequence:\n",
    "            prob = random.random()\n",
    "            # not mask\n",
    "            if prob < 0.85:\n",
    "                tokens.append(s)\n",
    "                mask.append(0)\n",
    "            # mask\n",
    "            else:\n",
    "                prob = random.random()\n",
    "                if prob < 0.8:\n",
    "                    tokens.append(self.masked_id)\n",
    "                elif prob < 0.9:\n",
    "                    tokens.append(random.randint(2,self.num_items+1))\n",
    "                else:\n",
    "                    tokens.append(s)\n",
    "                mask.append(s) \n",
    "        return tokens, mask"
   ]
  },
  {
   "cell_type": "code",
   "execution_count": 12,
   "metadata": {},
   "outputs": [],
   "source": [
    "my_dataset = BERTDataset(train_set, movie_to_id, 0, 1, 128, True)"
   ]
  },
  {
   "cell_type": "code",
   "execution_count": 13,
   "metadata": {},
   "outputs": [],
   "source": [
    "bert = BERTModel(128,2,8,len(movies),128,0.1)"
   ]
  },
  {
   "cell_type": "code",
   "execution_count": 14,
   "metadata": {},
   "outputs": [],
   "source": [
    "cuda = torch.device('cuda')\n",
    "bert = BERTModel(128,2,8,len(movies),128,0.1)\n",
    "bert = bert.to(device=cuda)"
>>>>>>> 81fab89859da7ca44e6db738b8f08bcc2c4ade93
   ]
  },
  {
   "cell_type": "code",
<<<<<<< HEAD
   "execution_count": null,
   "metadata": {},
   "outputs": [],
   "source": [
    "train,val,test = my_dataset.get_datasets()"
=======
   "execution_count": 15,
   "metadata": {},
   "outputs": [],
   "source": [
    "train_dataloader = DataLoader(my_dataset, batch_size=128, shuffle=True, drop_last=True)\n",
    "it = iter(train_dataloader)"
>>>>>>> 81fab89859da7ca44e6db738b8f08bcc2c4ade93
   ]
  },
  {
   "cell_type": "code",
<<<<<<< HEAD
   "execution_count": null,
   "metadata": {},
   "outputs": [],
   "source": [
    "device = 'mps'\n",
    "lr = 1e-3\n",
    "epochs = 110\n",
    "decay_steps=15\n",
    "gamma = 0.01\n",
    "weight_decay = 0.01\n",
    "model = BERTModel(128,my_dataset.item_count,2,4,256,0.1)\n",
    "optimizer = optim.Adam(model.parameters(),lr = lr, weight_decay= weight_decay)\n",
    "loss_fn = nn.CrossEntropyLoss(ignore_index=0)\n",
    "lr_scheduler = optim.lr_scheduler.StepLR(optimizer, step_size=decay_steps, gamma=gamma)\n",
    "train_loader = DataLoader(train,batch_size=64,shuffle=True, drop_last=True)\n",
    "val_loader = DataLoader(val,batch_size=64,shuffle=False, drop_last=True,pin_memory=True)"
=======
   "execution_count": 17,
   "metadata": {},
   "outputs": [],
   "source": [
    "#it = iter(train_dataloader)\n",
    "loss = nn.CrossEntropyLoss(ignore_index=0)\n",
    "optimizer = optim.Adam(bert.parameters(), lr=1e-4)\n",
    "epoch = 15\n",
    "log = open(\"train_log.txt\", \"w\")"
>>>>>>> 81fab89859da7ca44e6db738b8f08bcc2c4ade93
   ]
  },
  {
   "cell_type": "code",
<<<<<<< HEAD
   "execution_count": null,
   "metadata": {},
   "outputs": [],
   "source": [
    "bert_trainer = Trainer(model,train_loader,val_loader,'./checkpoint/',device,optimizer,loss_fn,lr_scheduler,epochs)"
=======
   "execution_count": 18,
   "metadata": {},
   "outputs": [],
   "source": [
    "for _ in range(epoch):\n",
    "    log.write(\"Epoch: \" + str(_) + \"\\n\")\n",
    "    \n",
    "    for idx, (train_tokens, train_mask) in enumerate(train_dataloader):\n",
    "        #train_tokens, train_mask = next(it)\n",
    "\n",
    "        # convert first dimension to tensor\n",
    "        train_tokens = torch.stack(train_tokens)\n",
    "        train_mask = torch.stack(train_mask)\n",
    "        train_tokens = train_tokens.to(device=cuda)\n",
    "        train_mask = train_mask.to(device=cuda)\n",
    "\n",
    "        train_h = bert(train_tokens)\n",
    "\n",
    "        #correct = (torch.max(train_h, 2) == torch.max(train_mask, 1))\n",
    "        #accuracy = correct / train_h\n",
    "\n",
    "        #print(train_h.shape)\n",
    "        #print(train_h)\n",
    "        #print(torch.max(train_h, 2))\n",
    "        train_h = train_h.view(-1, train_h.size(-1))\n",
    "\n",
    "        #print(train_mask.shape)\n",
    "        #print(train_mask)\n",
    "        #print(torch.max(train_mask, 1))\n",
    "        train_mask = train_mask.view(-1)\n",
    "\n",
    "\n",
    "        #train_h = torch.transpose(train_h, 1, 2)\n",
    "\n",
    "        #print(train_h.shape)\n",
    "        #print(train_mask.shape)\n",
    "\n",
    "        optimizer.zero_grad()\n",
    "        l = loss(train_h, train_mask)\n",
    "        l.backward()\n",
    "        optimizer.step()\n",
    "\n",
    "        if idx % 100 == 0:\n",
    "            ls = str(l.item()) + \", \" + str(idx) + \"\\n\"\n",
    "            log.write(ls)\n",
    "            #print(l.item(), idx)\n",
    "        #mask = train_mask.ne(0)\n",
    "        #mask_ = mask.unsqueeze(-1).expand(train_h.size())\n",
    "        #print(train_h.shape, mask_.shape)\n",
    "        #train_hat = torch.masked_select(train_h, mask)\n",
    "        #lable_hat = torch.masked_select(train_mask, mask)"
>>>>>>> 81fab89859da7ca44e6db738b8f08bcc2c4ade93
   ]
  },
  {
   "cell_type": "code",
<<<<<<< HEAD
   "execution_count": null,
   "metadata": {},
   "outputs": [],
   "source": [
    "bert_trainer.train()"
=======
   "execution_count": 36,
   "metadata": {},
   "outputs": [],
   "source": [
    "log.close()"
>>>>>>> 81fab89859da7ca44e6db738b8f08bcc2c4ade93
   ]
  }
 ],
 "metadata": {
  "kernelspec": {
   "display_name": "datamining",
   "language": "python",
   "name": "python3"
  },
  "language_info": {
   "codemirror_mode": {
    "name": "ipython",
    "version": 3
   },
   "file_extension": ".py",
   "mimetype": "text/x-python",
   "name": "python",
   "nbconvert_exporter": "python",
   "pygments_lexer": "ipython3",
<<<<<<< HEAD
   "version": "3.8.16"
=======
   "version": "3.10.11"
>>>>>>> 81fab89859da7ca44e6db738b8f08bcc2c4ade93
  },
  "orig_nbformat": 4
 },
 "nbformat": 4,
 "nbformat_minor": 2
}
