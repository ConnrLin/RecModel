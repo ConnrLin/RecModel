{
 "cells": [
  {
   "cell_type": "code",
   "execution_count": 1,
   "metadata": {},
   "outputs": [],
   "source": [
    "import torch\n",
    "# from options import args\n",
    "import numpy as np\n",
    "import pandas as pd\n",
    "import pickle"
   ]
  },
  {
   "cell_type": "code",
   "execution_count": 2,
   "metadata": {},
   "outputs": [],
   "source": [
    "device = 'mps'"
   ]
  },
  {
   "cell_type": "code",
   "execution_count": 3,
   "metadata": {},
   "outputs": [],
   "source": [
    "with open('./data/dataset.pkl','rb') as f:\n",
    "    dataset = pickle.load(f)"
   ]
  },
  {
   "cell_type": "code",
   "execution_count": 4,
   "metadata": {},
   "outputs": [],
   "source": [
    "smap = dataset['smap']\n",
    "reverse_smap = {}\n",
    "for key in smap:\n",
    "    reverse_smap[smap[key]] = key"
   ]
  },
  {
   "cell_type": "code",
   "execution_count": 5,
   "metadata": {},
   "outputs": [],
   "source": [
    "MASK_TOKEN = len(dataset['smap'])+1"
   ]
  },
  {
   "cell_type": "code",
   "execution_count": 6,
   "metadata": {},
   "outputs": [],
   "source": [
    "# def seq2vec(seq):\n",
    "# 1. build a dict map movie name to moive id\n",
    "df = pd.read_csv('Data/ml-20m/movies.csv')\n"
   ]
  },
  {
   "cell_type": "code",
   "execution_count": 7,
   "metadata": {},
   "outputs": [],
   "source": [
    "moive2id = {}\n",
    "id2movie = {}\n",
    "for i in range(len(df)):\n",
    "    s = df.loc[i]\n",
    "    id2movie[s['movieId']] = [s['title'],s['genres']]\n",
    "    moive2id[s['title']] = s['movieId']"
   ]
  },
  {
   "cell_type": "code",
   "execution_count": 8,
   "metadata": {},
   "outputs": [],
   "source": [
    "model = torch.load(\"checkpoint/102.model\").to(device)"
   ]
  },
  {
   "cell_type": "code",
   "execution_count": 18,
   "metadata": {},
   "outputs": [],
   "source": [
    "def pridct(model,movie_seq,smap,reverse_smap,moive2id,id2movie,predict_len):\n",
    "    seq = []\n",
    "    for x in movie_seq:\n",
    "        seq.append(smap[moive2id[x]])\n",
    "    # then add mask token\n",
    "    seq.append(MASK_TOKEN)\n",
    "    seq = seq[-128:]\n",
    "    padding_len = 128 - len(seq)\n",
    "    seq = [0] * padding_len + seq\n",
    "    vec = torch.LongTensor(seq).unsqueeze(0).to(device)\n",
    "    model.eval()\n",
    "    with torch.no_grad():\n",
    "        prediction = model(vec)\n",
    "    masked_predict = prediction[0,-1].cpu().numpy()\n",
    "    sorted_predicted_ids = np.argsort(masked_predict).tolist()[::-1]\n",
    "    predicted_id = []\n",
    "    for x in sorted_predicted_ids:\n",
    "        if x in seq:\n",
    "            continue\n",
    "        if x in reverse_smap:\n",
    "            predicted_id.append(reverse_smap[x])\n",
    "        if len(predicted_id)>predict_len:\n",
    "            break\n",
    "    res = [id2movie[x] for x in predicted_id]\n",
    "    for item in res:\n",
    "        print(item)\n",
    "    return res"
   ]
  },
  {
   "cell_type": "code",
   "execution_count": 19,
   "metadata": {},
   "outputs": [
    {
     "name": "stdout",
     "output_type": "stream",
     "text": [
      "['Harry Potter and the Order of the Phoenix (2007)', 'Adventure|Drama|Fantasy|IMAX']\n",
      "['Harry Potter and the Half-Blood Prince (2009)', 'Adventure|Fantasy|Mystery|Romance|IMAX']\n",
      "['Lord of the Rings: The Two Towers, The (2002)', 'Adventure|Fantasy']\n",
      "['Chronicles of Narnia: The Lion, the Witch and the Wardrobe, The (2005)', 'Adventure|Children|Fantasy']\n",
      "['Lord of the Rings: The Fellowship of the Ring, The (2001)', 'Adventure|Fantasy']\n",
      "['Harry Potter and the Deathly Hallows: Part 2 (2011)', 'Action|Adventure|Drama|Fantasy|Mystery|IMAX']\n",
      "['Pirates of the Caribbean: The Curse of the Black Pearl (2003)', 'Action|Adventure|Comedy|Fantasy']\n",
      "['Twilight (2008)', 'Drama|Fantasy|Romance|Thriller']\n",
      "['Spirited Away (Sen to Chihiro no kamikakushi) (2001)', 'Adventure|Animation|Fantasy']\n",
      "['Dark Knight, The (2008)', 'Action|Crime|Drama|IMAX']\n",
      "['Shawshank Redemption, The (1994)', 'Crime|Drama']\n"
     ]
    }
   ],
   "source": [
    "seq = [\"Harry Potter and the Sorcerer's Stone (a.k.a. Harry Potter and the Philosopher's Stone) (2001)\",\n",
    "       'Harry Potter and the Chamber of Secrets (2002)',\n",
    "       'Harry Potter and the Prisoner of Azkaban (2004)',\n",
    "       'Harry Potter and the Goblet of Fire (2005)'\n",
    "      ]\n",
    "res = pridct(model,seq,smap,reverse_smap,moive2id,id2movie,10)"
   ]
  }
 ],
 "metadata": {
  "kernelspec": {
   "display_name": "bert4rec",
   "language": "python",
   "name": "python3"
  },
  "language_info": {
   "codemirror_mode": {
    "name": "ipython",
    "version": 3
   },
   "file_extension": ".py",
   "mimetype": "text/x-python",
   "name": "python",
   "nbconvert_exporter": "python",
   "pygments_lexer": "ipython3",
   "version": "3.8.16"
  },
  "orig_nbformat": 4
 },
 "nbformat": 4,
 "nbformat_minor": 2
}
